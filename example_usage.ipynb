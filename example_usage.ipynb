{
 "cells": [
  {
   "cell_type": "markdown",
   "metadata": {},
   "source": [
    "# AudioEngine - Professional Therapeutic Noise Generator\n",
    "\n",
    "This notebook demonstrates how to use the AudioEngine to generate studio-quality therapeutic noise content optimized for YouTube.\n",
    "\n",
    "## Features:\n",
    "- Continuous audio generation (no segments or loops)\n",
    "- ITU-R BS.1770-4 compliant loudness (-14 LUFS for YouTube)\n",
    "- Infant-optimized frequency shaping\n",
    "- GPU acceleration for fast processing\n",
    "- Professional 48kHz/24-bit FLAC output"
   ]
  },
  {
   "cell_type": "markdown",
   "metadata": {},
   "source": [
    "## 1. Installation and Setup\n",
    "\n",
    "First, install the required dependencies:"
   ]
  },
  {
   "cell_type": "code",
   "execution_count": null,
   "metadata": {},
   "outputs": [],
   "source": [
    "# For Google Colab\n",
    "!pip install torch torchaudio librosa soundfile numpy scipy psutil\n",
    "\n",
    "# Optional: For full metadata support\n",
    "!pip install mutagen"
   ]
  },
  {
   "cell_type": "code",
   "execution_count": null,
   "metadata": {},
   "outputs": [],
   "source": [
    "# Import the audio engine modules\n",
    "import sys\n",
    "import os\n",
    "\n",
    "# Add the AudioEngine directory to path if needed\n",
    "# sys.path.append('/path/to/AudioEngine')\n",
    "\n",
    "from audio_engine import NoiseGenerator\n",
    "import torch\n",
    "import matplotlib.pyplot as plt\n",
    "import numpy as np\n",
    "from IPython.display import Audio, display"
   ]
  },
  {
   "cell_type": "markdown",
   "metadata": {},
   "source": [
    "## 2. Check GPU Availability"
   ]
  },
  {
   "cell_type": "code",
   "execution_count": null,
   "metadata": {},
   "outputs": [],
   "source": [
    "# Check if CUDA is available\n",
    "print(f\"CUDA available: {torch.cuda.is_available()}\")\n",
    "if torch.cuda.is_available():\n",
    "    print(f\"GPU: {torch.cuda.get_device_name(0)}\")\n",
    "    print(f\"Memory: {torch.cuda.get_device_properties(0).total_memory / 1e9:.2f} GB\")"
   ]
  },
  {
   "cell_type": "markdown",
   "metadata": {},
   "source": [
    "## 3. Initialize the Noise Generator"
   ]
  },
  {
   "cell_type": "code",
   "execution_count": null,
   "metadata": {},
   "outputs": [],
   "source": [
    "# Initialize with default settings (optimized for YouTube)\n",
    "generator = NoiseGenerator(\n",
    "    sample_rate=48000,      # YouTube native sample rate\n",
    "    bit_depth=24,           # Professional quality\n",
    "    target_lufs=-14.0,      # YouTube reference level\n",
    "    use_cuda=True,          # Enable GPU acceleration\n",
    "    therapeutic_eq=True,    # Apply infant-optimized EQ\n",
    "    fade_duration=5.0,      # 5-second fade in/out\n",
    "    oversampling_factor=4   # 4x oversampling for quality\n",
    ")\n",
    "\n",
    "# Display device information\n",
    "device_info = generator.get_device_info()\n",
    "print(\"Device Configuration:\")\n",
    "for key, value in device_info.items():\n",
    "    print(f\"  {key}: {value}\")"
   ]
  },
  {
   "cell_type": "markdown",
   "metadata": {},
   "source": [
    "## 4. Generate Different Types of Noise\n",
    "\n",
    "### 4.1 White Noise"
   ]
  },
  {
   "cell_type": "code",
   "execution_count": null,
   "metadata": {},
   "outputs": [],
   "source": [
    "# Generate 5 minutes of white noise\n",
    "print(\"Generating white noise...\")\n",
    "white_noise = generator.generate_white_noise(duration_minutes=5)\n",
    "\n",
    "# Export to FLAC\n",
    "generator.export_flac(\n",
    "    filename=\"white_noise_5min.flac\",\n",
    "    audio=white_noise,\n",
    "    noise_type=\"white\",\n",
    "    duration_minutes=5\n",
    ")\n",
    "\n",
    "# Preview (first 5 seconds)\n",
    "preview_samples = 5 * generator.config.sample_rate\n",
    "display(Audio(white_noise[:, :preview_samples].cpu().numpy(), rate=generator.config.sample_rate))"
   ]
  },
  {
   "cell_type": "markdown",
   "metadata": {},
   "source": [
    "### 4.2 Pink Noise"
   ]
  },
  {
   "cell_type": "code",
   "execution_count": null,
   "metadata": {},
   "outputs": [],
   "source": [
    "# Generate 10 minutes of pink noise\n",
    "print(\"Generating pink noise...\")\n",
    "pink_noise = generator.generate_pink_noise(duration_minutes=10)\n",
    "\n",
    "# Export to FLAC\n",
    "generator.export_flac(\n",
    "    filename=\"pink_noise_10min.flac\",\n",
    "    audio=pink_noise,\n",
    "    noise_type=\"pink\",\n",
    "    duration_minutes=10\n",
    ")\n",
    "\n",
    "# Preview\n",
    "display(Audio(pink_noise[:, :preview_samples].cpu().numpy(), rate=generator.config.sample_rate))"
   ]
  },
  {
   "cell_type": "markdown",
   "metadata": {},
   "source": [
    "### 4.3 Brown Noise"
   ]
  },
  {
   "cell_type": "code",
   "execution_count": null,
   "metadata": {},
   "outputs": [],
   "source": [
    "# Generate 30 minutes of brown noise\n",
    "print(\"Generating brown noise...\")\n",
    "brown_noise = generator.generate_brown_noise(duration_minutes=30)\n",
    "\n",
    "# Export to FLAC\n",
    "generator.export_flac(\n",
    "    filename=\"brown_noise_30min.flac\",\n",
    "    audio=brown_noise,\n",
    "    noise_type=\"brown\",\n",
    "    duration_minutes=30\n",
    ")\n",
    "\n",
    "# Preview\n",
    "display(Audio(brown_noise[:, :preview_samples].cpu().numpy(), rate=generator.config.sample_rate))"
   ]
  },
  {
   "cell_type": "markdown",
   "metadata": {},
   "source": [
    "## 5. Visualize Spectral Characteristics"
   ]
  },
  {
   "cell_type": "code",
   "execution_count": null,
   "metadata": {},
   "outputs": [],
   "source": [
    "def plot_spectrum(audio, title, sample_rate=48000):\n",
    "    \"\"\"Plot the frequency spectrum of audio\"\"\"\n",
    "    # Take a segment for analysis\n",
    "    segment = audio[0, :sample_rate*2].cpu().numpy()  # 2 seconds\n",
    "    \n",
    "    # Compute FFT\n",
    "    fft = np.fft.rfft(segment)\n",
    "    freqs = np.fft.rfftfreq(len(segment), 1/sample_rate)\n",
    "    magnitude = 20 * np.log10(np.abs(fft) + 1e-10)\n",
    "    \n",
    "    # Plot\n",
    "    plt.figure(figsize=(10, 6))\n",
    "    plt.semilogx(freqs[1:], magnitude[1:])  # Skip DC\n",
    "    plt.xlabel('Frequency (Hz)')\n",
    "    plt.ylabel('Magnitude (dB)')\n",
    "    plt.title(f'Frequency Spectrum - {title}')\n",
    "    plt.grid(True, alpha=0.3)\n",
    "    plt.xlim(20, 20000)\n",
    "    plt.show()\n",
    "\n",
    "# Plot spectra for each noise type\n",
    "plot_spectrum(white_noise, \"White Noise\")\n",
    "plot_spectrum(pink_noise, \"Pink Noise\")\n",
    "plot_spectrum(brown_noise, \"Brown Noise\")"
   ]
  },
  {
   "cell_type": "markdown",
   "metadata": {},
   "source": [
    "## 6. Generate Long-Duration Content for YouTube"
   ]
  },
  {
   "cell_type": "code",
   "execution_count": null,
   "metadata": {},
   "outputs": [],
   "source": [
    "# Generate 1-hour content for YouTube\n",
    "print(\"Generating 1-hour pink noise for YouTube...\")\n",
    "print(\"This will create a continuous, uninterrupted audio stream.\")\n",
    "\n",
    "# Generate\n",
    "youtube_audio = generator.generate_pink_noise(duration_minutes=60)\n",
    "\n",
    "# Export with metadata\n",
    "generator.export_flac(\n",
    "    filename=\"pink_noise_1hour_youtube.flac\",\n",
    "    audio=youtube_audio,\n",
    "    noise_type=\"pink\",\n",
    "    duration_minutes=60\n",
    ")\n",
    "\n",
    "print(\"\\nFile ready for YouTube upload!\")\n",
    "print(\"- Format: 48kHz/24-bit FLAC\")\n",
    "print(\"- Loudness: -14 LUFS (YouTube standard)\")\n",
    "print(\"- True Peak: ≤-1 dBTP\")\n",
    "print(\"- Duration: 60 minutes\")\n",
    "print(\"- Generation: Continuous (no loops or segments)\")"
   ]
  },
  {
   "cell_type": "markdown",
   "metadata": {},
   "source": [
    "## 7. Custom Configuration Examples"
   ]
  },
  {
   "cell_type": "code",
   "execution_count": null,
   "metadata": {},
   "outputs": [],
   "source": [
    "# Example 1: Generate without therapeutic EQ\n",
    "generator_flat = NoiseGenerator(\n",
    "    therapeutic_eq=False,  # No infant-optimized EQ\n",
    "    use_cuda=True\n",
    ")\n",
    "\n",
    "flat_white = generator_flat.generate_white_noise(duration_minutes=5)\n",
    "print(\"Generated flat white noise (no therapeutic EQ)\")"
   ]
  },
  {
   "cell_type": "code",
   "execution_count": null,
   "metadata": {},
   "outputs": [],
   "source": [
    "# Example 2: Generate for different loudness target\n",
    "generator_quiet = NoiseGenerator(\n",
    "    target_lufs=-20.0,  # Quieter output\n",
    "    use_cuda=True\n",
    ")\n",
    "\n",
    "quiet_pink = generator_quiet.generate_pink_noise(duration_minutes=5)\n",
    "print(\"Generated quieter pink noise (-20 LUFS)\")"
   ]
  },
  {
   "cell_type": "markdown",
   "metadata": {},
   "source": [
    "## 8. Batch Processing Example"
   ]
  },
  {
   "cell_type": "code",
   "execution_count": null,
   "metadata": {},
   "outputs": [],
   "source": [
    "# Generate a collection of different durations\n",
    "durations = [30, 60, 120, 180]  # minutes\n",
    "noise_types = ['white', 'pink', 'brown']\n",
    "\n",
    "print(\"Generating noise collection...\")\n",
    "for noise_type in noise_types:\n",
    "    for duration in durations:\n",
    "        print(f\"\\nGenerating {duration} minutes of {noise_type} noise...\")\n",
    "        \n",
    "        # Generate based on type\n",
    "        if noise_type == 'white':\n",
    "            audio = generator.generate_white_noise(duration_minutes=duration)\n",
    "        elif noise_type == 'pink':\n",
    "            audio = generator.generate_pink_noise(duration_minutes=duration)\n",
    "        else:\n",
    "            audio = generator.generate_brown_noise(duration_minutes=duration)\n",
    "        \n",
    "        # Export\n",
    "        filename = f\"{noise_type}_noise_{duration}min.flac\"\n",
    "        generator.export_flac(\n",
    "            filename=filename,\n",
    "            audio=audio,\n",
    "            noise_type=noise_type,\n",
    "            duration_minutes=duration\n",
    "        )\n",
    "        \n",
    "        print(f\"Exported: {filename}\")\n",
    "        \n",
    "        # Clear GPU cache between generations\n",
    "        if generator.cuda.enabled:\n",
    "            generator.cuda.clear_cache()\n",
    "\n",
    "print(\"\\nCollection complete!\")"
   ]
  },
  {
   "cell_type": "markdown",
   "metadata": {},
   "source": [
    "## 9. Memory Management for Ultra-Long Content"
   ]
  },
  {
   "cell_type": "code",
   "execution_count": null,
   "metadata": {},
   "outputs": [],
   "source": [
    "# For very long content (e.g., 10+ hours), process in chunks\n",
    "def generate_ultra_long_content(hours, noise_type='pink'):\n",
    "    \"\"\"Generate ultra-long content by processing in memory-efficient chunks\"\"\"\n",
    "    \n",
    "    total_minutes = hours * 60\n",
    "    chunk_minutes = 60  # Process 1 hour at a time\n",
    "    \n",
    "    print(f\"Generating {hours} hours of {noise_type} noise...\")\n",
    "    print(f\"Processing in {chunk_minutes}-minute chunks for memory efficiency\")\n",
    "    \n",
    "    # This is a demonstration - in practice, you'd want to stream\n",
    "    # the output directly to disk rather than concatenating in memory\n",
    "    \n",
    "    for chunk_idx in range(0, total_minutes, chunk_minutes):\n",
    "        current_chunk_minutes = min(chunk_minutes, total_minutes - chunk_idx)\n",
    "        print(f\"\\nProcessing chunk {chunk_idx//chunk_minutes + 1}/{total_minutes//chunk_minutes}\")\n",
    "        \n",
    "        # Generate chunk\n",
    "        if noise_type == 'white':\n",
    "            chunk = generator.generate_white_noise(duration_minutes=current_chunk_minutes)\n",
    "        elif noise_type == 'pink':\n",
    "            chunk = generator.generate_pink_noise(duration_minutes=current_chunk_minutes)\n",
    "        else:\n",
    "            chunk = generator.generate_brown_noise(duration_minutes=current_chunk_minutes)\n",
    "        \n",
    "        # Export chunk\n",
    "        chunk_filename = f\"{noise_type}_noise_{hours}h_chunk{chunk_idx//chunk_minutes + 1}.flac\"\n",
    "        generator.export_flac(\n",
    "            filename=chunk_filename,\n",
    "            audio=chunk,\n",
    "            noise_type=noise_type,\n",
    "            duration_minutes=current_chunk_minutes\n",
    "        )\n",
    "        \n",
    "        # Clear memory\n",
    "        del chunk\n",
    "        if generator.cuda.enabled:\n",
    "            generator.cuda.clear_cache()\n",
    "    \n",
    "    print(f\"\\nCompleted {hours}-hour generation!\")\n",
    "\n",
    "# Example: Generate 3 hours\n",
    "# generate_ultra_long_content(3, 'brown')"
   ]
  },
  {
   "cell_type": "markdown",
   "metadata": {},
   "source": [
    "## 10. Cleanup"
   ]
  },
  {
   "cell_type": "code",
   "execution_count": null,
   "metadata": {},
   "outputs": [],
   "source": [
    "# Clear GPU cache\n",
    "if torch.cuda.is_available():\n",
    "    torch.cuda.empty_cache()\n",
    "    print(\"GPU cache cleared\")"
   ]
  }
 ],
 "metadata": {
  "kernelspec": {
   "display_name": "Python 3",
   "language": "python",
   "name": "python3"
  },
  "language_info": {
   "codemirror_mode": {
    "name": "ipython",
    "version": 3
   },
   "file_extension": ".py",
   "mimetype": "text/x-python",
   "name": "python",
   "nbconvert_exporter": "python",
   "pygments_lexer": "ipython3",
   "version": "3.8.0"
  }
 },
 "nbformat": 4,
 "nbformat_minor": 4
}